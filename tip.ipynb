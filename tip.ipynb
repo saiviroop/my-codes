{
  "nbformat": 4,
  "nbformat_minor": 0,
  "metadata": {
    "colab": {
      "provenance": []
    },
    "kernelspec": {
      "name": "python3",
      "display_name": "Python 3"
    },
    "language_info": {
      "name": "python"
    }
  },
  "cells": [
    {
      "cell_type": "code",
      "execution_count": null,
      "metadata": {
        "id": "pirvGxYlC8EM"
      },
      "outputs": [],
      "source": [
        "# prompt: File \"<ipython-input-11-f55f7de94dcf>\", line 3\n",
        "#     float percent = percent_to_float(float(input(\"What percentage would you like to tip? \")))\n",
        "#           ^\n",
        "# SyntaxError: invalid syntax\n",
        "\n",
        "# This is not valid Python code. percent should not have a type declaration\n",
        "percent = percent_to_float(float(input(\"What percentage would you like to tip? \")))\n"
      ]
    },
    {
      "cell_type": "code",
      "source": [
        "def main():\n",
        "    dollars = dollars_to_float(input(\"How much was the meal? \"))\n",
        "    percent = percent_to_float((input(\"What percentage would you like to tip? \")))\n",
        "    tip = dollars * percent\n",
        "    print(f\"Leave ${tip:.2f}\")\n",
        "\n",
        "def dollars_to_float(dollars):\n",
        "    dollars = dollars.replace(\"$\", \"\")\n",
        "    return float(dollars)\n",
        "\n",
        "def percent_to_float(percent):\n",
        "    percent = percent.replace(\"%\",\"\")\n",
        "    return float(percent )/ 100\n",
        "\n",
        "main()\n",
        "\n"
      ],
      "metadata": {
        "colab": {
          "base_uri": "https://localhost:8080/"
        },
        "id": "SSiR41GtDFKw",
        "outputId": "8ed67cf3-9b9d-48c5-eeef-260b92044b1d"
      },
      "execution_count": 18,
      "outputs": [
        {
          "output_type": "stream",
          "name": "stdout",
          "text": [
            "How much was the meal? 200\n",
            "What percentage would you like to tip? 30\n",
            "Leave $60.00\n"
          ]
        }
      ]
    },
    {
      "cell_type": "code",
      "source": [],
      "metadata": {
        "id": "aWU3-Co1G2hc"
      },
      "execution_count": null,
      "outputs": []
    }
  ]
}