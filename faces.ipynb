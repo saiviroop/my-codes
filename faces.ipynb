{
  "nbformat": 4,
  "nbformat_minor": 0,
  "metadata": {
    "colab": {
      "provenance": []
    },
    "kernelspec": {
      "name": "python3",
      "display_name": "Python 3"
    },
    "language_info": {
      "name": "python"
    }
  },
  "cells": [
    {
      "cell_type": "code",
      "execution_count": 1,
      "metadata": {
        "colab": {
          "base_uri": "https://localhost:8080/"
        },
        "id": "1c3I1GDZzUO-",
        "outputId": "03bbb616-6644-4bc7-efd9-e2f9408cd608"
      },
      "outputs": [
        {
          "output_type": "stream",
          "name": "stdout",
          "text": [
            "Enter text for faces: hi :)\n",
            "hi 🙂\n"
          ]
        }
      ],
      "source": [
        "def convert(text):\n",
        "    return text.replace(\":)\", \"🙂\").replace(\":\", \"🙁\")\n",
        "\n",
        "def faces():\n",
        "    user_input = input(\"Enter text for faces: \")\n",
        "    print(convert(user_input))\n",
        "faces()"
      ]
    }
  ]
}